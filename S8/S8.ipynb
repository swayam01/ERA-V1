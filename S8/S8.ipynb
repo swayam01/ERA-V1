{
 "cells": [
  {
   "cell_type": "code",
   "execution_count": 1,
   "id": "d6ecf24e",
   "metadata": {},
   "outputs": [
    {
     "name": "stdout",
     "output_type": "stream",
     "text": [
      "CUDA Available? False\n"
     ]
    }
   ],
   "source": [
    "import torch\n",
    "import torch.optim as optim\n",
    "import torch.nn.functional as F\n",
    "from torchvision import datasets, transforms \n",
    "from torchsummary import summary\n",
    "import matplotlib.pyplot as plt\n",
    "from model import BNNet, GNNet, LNNet\n",
    "from utils import *"
   ]
  },
  {
   "cell_type": "code",
   "execution_count": 2,
   "id": "ed14d47a",
   "metadata": {},
   "outputs": [
    {
     "name": "stdout",
     "output_type": "stream",
     "text": [
      "Files already downloaded and verified\n",
      "Files already downloaded and verified\n"
     ]
    }
   ],
   "source": [
    "# Data loading\n",
    "train_data = datasets.CIFAR10(root='./data', train=True, download=True, transform=transforms.ToTensor())\n",
    "test_data = datasets.CIFAR10(root='./data', train=False, download=True, transform=transforms.ToTensor())\n",
    "\n",
    "train_loader = torch.utils.data.DataLoader(train_data, batch_size=64, shuffle=True)\n",
    "test_loader = torch.utils.data.DataLoader(test_data, batch_size=64, shuffle=True)\n"
   ]
  },
  {
   "cell_type": "code",
   "execution_count": 3,
   "id": "eec8e23b",
   "metadata": {},
   "outputs": [
    {
     "name": "stdout",
     "output_type": "stream",
     "text": [
      "----------------------------------------------------------------\n",
      "        Layer (type)               Output Shape         Param #\n",
      "================================================================\n",
      "            Conv2d-1            [-1, 6, 32, 32]             168\n",
      "         GroupNorm-2            [-1, 6, 32, 32]              12\n",
      "              ReLU-3            [-1, 6, 32, 32]               0\n",
      "            Conv2d-4           [-1, 12, 32, 32]             660\n",
      "         GroupNorm-5           [-1, 12, 32, 32]              24\n",
      "              ReLU-6           [-1, 12, 32, 32]               0\n",
      "            Conv2d-7           [-1, 12, 32, 32]             156\n",
      "         GroupNorm-8           [-1, 12, 32, 32]              24\n",
      "              ReLU-9           [-1, 12, 32, 32]               0\n",
      "        MaxPool2d-10           [-1, 12, 16, 16]               0\n",
      "           Conv2d-11           [-1, 24, 16, 16]           2,616\n",
      "        GroupNorm-12           [-1, 24, 16, 16]              48\n",
      "             ReLU-13           [-1, 24, 16, 16]               0\n",
      "           Conv2d-14           [-1, 24, 16, 16]           5,208\n",
      "        GroupNorm-15           [-1, 24, 16, 16]              48\n",
      "             ReLU-16           [-1, 24, 16, 16]               0\n",
      "           Conv2d-17           [-1, 24, 16, 16]             600\n",
      "        GroupNorm-18           [-1, 24, 16, 16]              48\n",
      "             ReLU-19           [-1, 24, 16, 16]               0\n",
      "        MaxPool2d-20             [-1, 24, 8, 8]               0\n",
      "           Conv2d-21             [-1, 48, 8, 8]          10,416\n",
      "        GroupNorm-22             [-1, 48, 8, 8]              96\n",
      "             ReLU-23             [-1, 48, 8, 8]               0\n",
      "           Conv2d-24             [-1, 48, 8, 8]          20,784\n",
      "        GroupNorm-25             [-1, 48, 8, 8]              96\n",
      "             ReLU-26             [-1, 48, 8, 8]               0\n",
      "           Conv2d-27             [-1, 48, 8, 8]          20,784\n",
      "        GroupNorm-28             [-1, 48, 8, 8]              96\n",
      "             ReLU-29             [-1, 48, 8, 8]               0\n",
      "AdaptiveAvgPool2d-30             [-1, 48, 1, 1]               0\n",
      "           Conv2d-31             [-1, 10, 1, 1]             490\n",
      "================================================================\n",
      "Total params: 62,374\n",
      "Trainable params: 62,374\n",
      "Non-trainable params: 0\n",
      "----------------------------------------------------------------\n",
      "Input size (MB): 0.01\n",
      "Forward/backward pass size (MB): 1.37\n",
      "Params size (MB): 0.24\n",
      "Estimated Total Size (MB): 1.62\n",
      "----------------------------------------------------------------\n"
     ]
    }
   ],
   "source": [
    "# Model1 summary\n",
    "device = torch.device(\"cuda\" if cuda else \"cpu\")\n",
    "model1 = GNNet().to(device)\n",
    "summary(model1, input_size=(3, 32, 32))"
   ]
  },
  {
   "cell_type": "code",
   "execution_count": 4,
   "id": "cd95f0f3",
   "metadata": {},
   "outputs": [
    {
     "name": "stdout",
     "output_type": "stream",
     "text": [
      "----------------------------------------------------------------\n",
      "        Layer (type)               Output Shape         Param #\n",
      "================================================================\n",
      "            Conv2d-1            [-1, 6, 32, 32]             168\n",
      "         LayerNorm-2            [-1, 6, 32, 32]          12,288\n",
      "              ReLU-3            [-1, 6, 32, 32]               0\n",
      "            Conv2d-4           [-1, 12, 32, 32]             660\n",
      "         LayerNorm-5           [-1, 12, 32, 32]          24,576\n",
      "              ReLU-6           [-1, 12, 32, 32]               0\n",
      "            Conv2d-7           [-1, 12, 32, 32]             156\n",
      "         LayerNorm-8           [-1, 12, 32, 32]          24,576\n",
      "              ReLU-9           [-1, 12, 32, 32]               0\n",
      "        MaxPool2d-10           [-1, 12, 16, 16]               0\n",
      "           Conv2d-11           [-1, 24, 16, 16]           2,616\n",
      "        LayerNorm-12           [-1, 24, 16, 16]          12,288\n",
      "             ReLU-13           [-1, 24, 16, 16]               0\n",
      "           Conv2d-14           [-1, 24, 16, 16]           5,208\n",
      "        LayerNorm-15           [-1, 24, 16, 16]          12,288\n",
      "             ReLU-16           [-1, 24, 16, 16]               0\n",
      "           Conv2d-17           [-1, 24, 16, 16]             600\n",
      "        LayerNorm-18           [-1, 24, 16, 16]          12,288\n",
      "             ReLU-19           [-1, 24, 16, 16]               0\n",
      "        MaxPool2d-20             [-1, 24, 8, 8]               0\n",
      "           Conv2d-21             [-1, 48, 8, 8]          10,416\n",
      "        LayerNorm-22             [-1, 48, 8, 8]           6,144\n",
      "             ReLU-23             [-1, 48, 8, 8]               0\n",
      "           Conv2d-24             [-1, 48, 8, 8]          20,784\n",
      "        LayerNorm-25             [-1, 48, 8, 8]           6,144\n",
      "             ReLU-26             [-1, 48, 8, 8]               0\n",
      "           Conv2d-27             [-1, 48, 8, 8]          20,784\n",
      "        LayerNorm-28             [-1, 48, 8, 8]           6,144\n",
      "             ReLU-29             [-1, 48, 8, 8]               0\n",
      "AdaptiveAvgPool2d-30             [-1, 48, 1, 1]               0\n",
      "           Conv2d-31             [-1, 10, 1, 1]             490\n",
      "================================================================\n",
      "Total params: 178,618\n",
      "Trainable params: 178,618\n",
      "Non-trainable params: 0\n",
      "----------------------------------------------------------------\n",
      "Input size (MB): 0.01\n",
      "Forward/backward pass size (MB): 1.37\n",
      "Params size (MB): 0.68\n",
      "Estimated Total Size (MB): 2.06\n",
      "----------------------------------------------------------------\n"
     ]
    }
   ],
   "source": [
    "# Model2 summary\n",
    "device = torch.device(\"cuda\" if cuda else \"cpu\")\n",
    "model2 = LNNet().to(device)\n",
    "summary(model2, input_size=(3, 32, 32))"
   ]
  },
  {
   "cell_type": "code",
   "execution_count": 5,
   "id": "f063bcbf",
   "metadata": {},
   "outputs": [
    {
     "name": "stdout",
     "output_type": "stream",
     "text": [
      "----------------------------------------------------------------\n",
      "        Layer (type)               Output Shape         Param #\n",
      "================================================================\n",
      "            Conv2d-1            [-1, 6, 32, 32]             168\n",
      "       BatchNorm2d-2            [-1, 6, 32, 32]              12\n",
      "              ReLU-3            [-1, 6, 32, 32]               0\n",
      "            Conv2d-4           [-1, 12, 32, 32]             660\n",
      "       BatchNorm2d-5           [-1, 12, 32, 32]              24\n",
      "              ReLU-6           [-1, 12, 32, 32]               0\n",
      "            Conv2d-7           [-1, 12, 32, 32]             156\n",
      "       BatchNorm2d-8           [-1, 12, 32, 32]              24\n",
      "              ReLU-9           [-1, 12, 32, 32]               0\n",
      "        MaxPool2d-10           [-1, 12, 16, 16]               0\n",
      "           Conv2d-11           [-1, 24, 16, 16]           2,616\n",
      "      BatchNorm2d-12           [-1, 24, 16, 16]              48\n",
      "             ReLU-13           [-1, 24, 16, 16]               0\n",
      "           Conv2d-14           [-1, 24, 16, 16]           5,208\n",
      "      BatchNorm2d-15           [-1, 24, 16, 16]              48\n",
      "             ReLU-16           [-1, 24, 16, 16]               0\n",
      "           Conv2d-17           [-1, 24, 16, 16]             600\n",
      "      BatchNorm2d-18           [-1, 24, 16, 16]              48\n",
      "             ReLU-19           [-1, 24, 16, 16]               0\n",
      "        MaxPool2d-20             [-1, 24, 8, 8]               0\n",
      "           Conv2d-21             [-1, 48, 8, 8]          10,416\n",
      "      BatchNorm2d-22             [-1, 48, 8, 8]              96\n",
      "             ReLU-23             [-1, 48, 8, 8]               0\n",
      "           Conv2d-24             [-1, 48, 8, 8]          20,784\n",
      "      BatchNorm2d-25             [-1, 48, 8, 8]              96\n",
      "             ReLU-26             [-1, 48, 8, 8]               0\n",
      "           Conv2d-27             [-1, 48, 8, 8]          20,784\n",
      "      BatchNorm2d-28             [-1, 48, 8, 8]              96\n",
      "             ReLU-29             [-1, 48, 8, 8]               0\n",
      "AdaptiveAvgPool2d-30             [-1, 48, 1, 1]               0\n",
      "           Conv2d-31             [-1, 10, 1, 1]             490\n",
      "================================================================\n",
      "Total params: 62,374\n",
      "Trainable params: 62,374\n",
      "Non-trainable params: 0\n",
      "----------------------------------------------------------------\n",
      "Input size (MB): 0.01\n",
      "Forward/backward pass size (MB): 1.37\n",
      "Params size (MB): 0.24\n",
      "Estimated Total Size (MB): 1.62\n",
      "----------------------------------------------------------------\n"
     ]
    }
   ],
   "source": [
    "# Model3 summary\n",
    "device = torch.device(\"cuda\" if cuda else \"cpu\")\n",
    "model3 = BNNet().to(device)\n",
    "summary(model3, input_size=(3, 32, 32))"
   ]
  },
  {
   "cell_type": "code",
   "execution_count": 6,
   "id": "25ec175f",
   "metadata": {},
   "outputs": [
    {
     "name": "stdout",
     "output_type": "stream",
     "text": [
      "Adjusting learning rate of group 0 to 1.0000e-02.\n",
      "Epoch 1\n"
     ]
    },
    {
     "name": "stderr",
     "output_type": "stream",
     "text": [
      "Train: Loss=2.1041 Batch_id=781 Accuracy=26.63: 100%|█| 782/782 [00:33<00:00, 23\n"
     ]
    },
    {
     "name": "stdout",
     "output_type": "stream",
     "text": [
      "Adjusting learning rate of group 0 to 1.0000e-02.\n",
      "Epoch 2\n"
     ]
    },
    {
     "name": "stderr",
     "output_type": "stream",
     "text": [
      "Train: Loss=1.5253 Batch_id=781 Accuracy=41.20: 100%|█| 782/782 [00:33<00:00, 23\n"
     ]
    },
    {
     "name": "stdout",
     "output_type": "stream",
     "text": [
      "Adjusting learning rate of group 0 to 1.0000e-02.\n",
      "Epoch 3\n"
     ]
    },
    {
     "name": "stderr",
     "output_type": "stream",
     "text": [
      "Train: Loss=1.6826 Batch_id=781 Accuracy=49.74: 100%|█| 782/782 [00:33<00:00, 23\n"
     ]
    },
    {
     "name": "stdout",
     "output_type": "stream",
     "text": [
      "Adjusting learning rate of group 0 to 1.0000e-02.\n",
      "Epoch 4\n"
     ]
    },
    {
     "name": "stderr",
     "output_type": "stream",
     "text": [
      "Train: Loss=0.8840 Batch_id=781 Accuracy=55.32: 100%|█| 782/782 [00:33<00:00, 23\n"
     ]
    },
    {
     "name": "stdout",
     "output_type": "stream",
     "text": [
      "Adjusting learning rate of group 0 to 1.0000e-02.\n",
      "Epoch 5\n"
     ]
    },
    {
     "name": "stderr",
     "output_type": "stream",
     "text": [
      "Train: Loss=1.1017 Batch_id=781 Accuracy=59.28: 100%|█| 782/782 [00:31<00:00, 24\n"
     ]
    },
    {
     "name": "stdout",
     "output_type": "stream",
     "text": [
      "Adjusting learning rate of group 0 to 1.0000e-02.\n",
      "Epoch 6\n"
     ]
    },
    {
     "name": "stderr",
     "output_type": "stream",
     "text": [
      "Train: Loss=1.1375 Batch_id=781 Accuracy=62.53: 100%|█| 782/782 [00:32<00:00, 23\n"
     ]
    },
    {
     "name": "stdout",
     "output_type": "stream",
     "text": [
      "Adjusting learning rate of group 0 to 1.0000e-02.\n",
      "Epoch 7\n"
     ]
    },
    {
     "name": "stderr",
     "output_type": "stream",
     "text": [
      "Train: Loss=1.0321 Batch_id=781 Accuracy=65.62: 100%|█| 782/782 [00:32<00:00, 24\n"
     ]
    },
    {
     "name": "stdout",
     "output_type": "stream",
     "text": [
      "Adjusting learning rate of group 0 to 1.0000e-02.\n",
      "Epoch 8\n"
     ]
    },
    {
     "name": "stderr",
     "output_type": "stream",
     "text": [
      "Train: Loss=1.4445 Batch_id=781 Accuracy=68.25: 100%|█| 782/782 [00:32<00:00, 24\n"
     ]
    },
    {
     "name": "stdout",
     "output_type": "stream",
     "text": [
      "Adjusting learning rate of group 0 to 1.0000e-02.\n",
      "Epoch 9\n"
     ]
    },
    {
     "name": "stderr",
     "output_type": "stream",
     "text": [
      "Train: Loss=1.0296 Batch_id=781 Accuracy=69.84: 100%|█| 782/782 [00:31<00:00, 24\n"
     ]
    },
    {
     "name": "stdout",
     "output_type": "stream",
     "text": [
      "Adjusting learning rate of group 0 to 1.0000e-02.\n",
      "Epoch 10\n"
     ]
    },
    {
     "name": "stderr",
     "output_type": "stream",
     "text": [
      "Train: Loss=0.4140 Batch_id=781 Accuracy=71.78: 100%|█| 782/782 [00:31<00:00, 25\n"
     ]
    },
    {
     "name": "stdout",
     "output_type": "stream",
     "text": [
      "Adjusting learning rate of group 0 to 1.0000e-02.\n",
      "Epoch 11\n"
     ]
    },
    {
     "name": "stderr",
     "output_type": "stream",
     "text": [
      "Train: Loss=0.4437 Batch_id=781 Accuracy=73.22: 100%|█| 782/782 [00:31<00:00, 24\n"
     ]
    },
    {
     "name": "stdout",
     "output_type": "stream",
     "text": [
      "Adjusting learning rate of group 0 to 1.0000e-02.\n",
      "Epoch 12\n"
     ]
    },
    {
     "name": "stderr",
     "output_type": "stream",
     "text": [
      "Train: Loss=1.0339 Batch_id=781 Accuracy=74.13: 100%|█| 782/782 [00:31<00:00, 24\n"
     ]
    },
    {
     "name": "stdout",
     "output_type": "stream",
     "text": [
      "Adjusting learning rate of group 0 to 1.0000e-02.\n",
      "Epoch 13\n"
     ]
    },
    {
     "name": "stderr",
     "output_type": "stream",
     "text": [
      "Train: Loss=0.3664 Batch_id=781 Accuracy=75.20: 100%|█| 782/782 [00:31<00:00, 24\n"
     ]
    },
    {
     "name": "stdout",
     "output_type": "stream",
     "text": [
      "Adjusting learning rate of group 0 to 1.0000e-02.\n",
      "Epoch 14\n"
     ]
    },
    {
     "name": "stderr",
     "output_type": "stream",
     "text": [
      "Train: Loss=1.1018 Batch_id=781 Accuracy=76.16: 100%|█| 782/782 [00:32<00:00, 24\n"
     ]
    },
    {
     "name": "stdout",
     "output_type": "stream",
     "text": [
      "Adjusting learning rate of group 0 to 1.0000e-02.\n",
      "Epoch 15\n"
     ]
    },
    {
     "name": "stderr",
     "output_type": "stream",
     "text": [
      "Train: Loss=0.5870 Batch_id=781 Accuracy=76.93: 100%|█| 782/782 [00:32<00:00, 24\n"
     ]
    },
    {
     "name": "stdout",
     "output_type": "stream",
     "text": [
      "Adjusting learning rate of group 0 to 1.0000e-03.\n",
      "Epoch 16\n"
     ]
    },
    {
     "name": "stderr",
     "output_type": "stream",
     "text": [
      "Train: Loss=0.2821 Batch_id=781 Accuracy=81.88: 100%|█| 782/782 [00:32<00:00, 24\n"
     ]
    },
    {
     "name": "stdout",
     "output_type": "stream",
     "text": [
      "Adjusting learning rate of group 0 to 1.0000e-03.\n",
      "Epoch 17\n"
     ]
    },
    {
     "name": "stderr",
     "output_type": "stream",
     "text": [
      "Train: Loss=0.6245 Batch_id=781 Accuracy=82.64: 100%|█| 782/782 [00:32<00:00, 24\n"
     ]
    },
    {
     "name": "stdout",
     "output_type": "stream",
     "text": [
      "Adjusting learning rate of group 0 to 1.0000e-03.\n",
      "Epoch 18\n"
     ]
    },
    {
     "name": "stderr",
     "output_type": "stream",
     "text": [
      "Train: Loss=0.6908 Batch_id=781 Accuracy=82.85: 100%|█| 782/782 [00:32<00:00, 24\n"
     ]
    },
    {
     "name": "stdout",
     "output_type": "stream",
     "text": [
      "Adjusting learning rate of group 0 to 1.0000e-03.\n",
      "Epoch 19\n"
     ]
    },
    {
     "name": "stderr",
     "output_type": "stream",
     "text": [
      "Train: Loss=0.4459 Batch_id=781 Accuracy=83.18: 100%|█| 782/782 [00:32<00:00, 23\n"
     ]
    },
    {
     "name": "stdout",
     "output_type": "stream",
     "text": [
      "Adjusting learning rate of group 0 to 1.0000e-03.\n",
      "Epoch 20\n"
     ]
    },
    {
     "name": "stderr",
     "output_type": "stream",
     "text": [
      "Train: Loss=0.4999 Batch_id=781 Accuracy=83.37: 100%|█| 782/782 [00:33<00:00, 23\n"
     ]
    },
    {
     "name": "stdout",
     "output_type": "stream",
     "text": [
      "Adjusting learning rate of group 0 to 1.0000e-03.\n"
     ]
    }
   ],
   "source": [
    "# Training and Testing - model 1\n",
    "optimizer = optim.SGD(model1.parameters(), lr=0.01, momentum=0.9)\n",
    "scheduler = optim.lr_scheduler.StepLR(optimizer, step_size=15, gamma=0.1, verbose=True)\n",
    "criterion = F.nll_loss\n",
    "num_epochs = 20\n",
    "\n",
    "train_acc = []\n",
    "train_losses = []\n",
    "test_acc = []\n",
    "test_losses = []\n",
    "\n",
    "for epoch in range(1, num_epochs+1):\n",
    "    print(f'Epoch {epoch}')\n",
    "    train_acc, train_losses = train(model1, device, train_loader, optimizer, criterion, train_acc, train_losses)\n",
    "    test_acc, test_losses = test(model1, device, test_loader, criterion, test_acc, test_losses)\n",
    "    scheduler.step()"
   ]
  },
  {
   "cell_type": "code",
   "execution_count": 7,
   "id": "dc23ff92",
   "metadata": {},
   "outputs": [
    {
     "name": "stdout",
     "output_type": "stream",
     "text": [
      "Adjusting learning rate of group 0 to 1.0000e-02.\n",
      "Epoch 1\n"
     ]
    },
    {
     "name": "stderr",
     "output_type": "stream",
     "text": [
      "Train: Loss=2.4028 Batch_id=781 Accuracy=22.99: 100%|█| 782/782 [00:33<00:00, 23\n"
     ]
    },
    {
     "name": "stdout",
     "output_type": "stream",
     "text": [
      "Adjusting learning rate of group 0 to 1.0000e-02.\n",
      "Epoch 2\n"
     ]
    },
    {
     "name": "stderr",
     "output_type": "stream",
     "text": [
      "Train: Loss=1.5823 Batch_id=781 Accuracy=36.51: 100%|█| 782/782 [00:32<00:00, 23\n"
     ]
    },
    {
     "name": "stdout",
     "output_type": "stream",
     "text": [
      "Adjusting learning rate of group 0 to 1.0000e-02.\n",
      "Epoch 3\n"
     ]
    },
    {
     "name": "stderr",
     "output_type": "stream",
     "text": [
      "Train: Loss=1.3490 Batch_id=781 Accuracy=43.73: 100%|█| 782/782 [00:32<00:00, 23\n"
     ]
    },
    {
     "name": "stdout",
     "output_type": "stream",
     "text": [
      "Adjusting learning rate of group 0 to 1.0000e-02.\n",
      "Epoch 4\n"
     ]
    },
    {
     "name": "stderr",
     "output_type": "stream",
     "text": [
      "Train: Loss=1.3549 Batch_id=781 Accuracy=48.96: 100%|█| 782/782 [00:32<00:00, 23\n"
     ]
    },
    {
     "name": "stdout",
     "output_type": "stream",
     "text": [
      "Adjusting learning rate of group 0 to 1.0000e-02.\n",
      "Epoch 5\n"
     ]
    },
    {
     "name": "stderr",
     "output_type": "stream",
     "text": [
      "Train: Loss=2.0804 Batch_id=781 Accuracy=53.23: 100%|█| 782/782 [00:34<00:00, 22\n"
     ]
    },
    {
     "name": "stdout",
     "output_type": "stream",
     "text": [
      "Adjusting learning rate of group 0 to 1.0000e-02.\n",
      "Epoch 6\n"
     ]
    },
    {
     "name": "stderr",
     "output_type": "stream",
     "text": [
      "Train: Loss=0.7925 Batch_id=781 Accuracy=56.74: 100%|█| 782/782 [00:33<00:00, 23\n"
     ]
    },
    {
     "name": "stdout",
     "output_type": "stream",
     "text": [
      "Adjusting learning rate of group 0 to 1.0000e-02.\n",
      "Epoch 7\n"
     ]
    },
    {
     "name": "stderr",
     "output_type": "stream",
     "text": [
      "Train: Loss=1.1057 Batch_id=781 Accuracy=59.58: 100%|█| 782/782 [00:33<00:00, 23\n"
     ]
    },
    {
     "name": "stdout",
     "output_type": "stream",
     "text": [
      "Adjusting learning rate of group 0 to 1.0000e-02.\n",
      "Epoch 8\n"
     ]
    },
    {
     "name": "stderr",
     "output_type": "stream",
     "text": [
      "Train: Loss=0.7619 Batch_id=781 Accuracy=61.19: 100%|█| 782/782 [00:33<00:00, 23\n"
     ]
    },
    {
     "name": "stdout",
     "output_type": "stream",
     "text": [
      "Adjusting learning rate of group 0 to 1.0000e-02.\n",
      "Epoch 9\n"
     ]
    },
    {
     "name": "stderr",
     "output_type": "stream",
     "text": [
      "Train: Loss=1.2654 Batch_id=781 Accuracy=63.76: 100%|█| 782/782 [00:35<00:00, 22\n"
     ]
    },
    {
     "name": "stdout",
     "output_type": "stream",
     "text": [
      "Adjusting learning rate of group 0 to 1.0000e-02.\n",
      "Epoch 10\n"
     ]
    },
    {
     "name": "stderr",
     "output_type": "stream",
     "text": [
      "Train: Loss=0.9278 Batch_id=781 Accuracy=65.44: 100%|█| 782/782 [00:38<00:00, 20\n"
     ]
    },
    {
     "name": "stdout",
     "output_type": "stream",
     "text": [
      "Adjusting learning rate of group 0 to 1.0000e-02.\n",
      "Epoch 11\n"
     ]
    },
    {
     "name": "stderr",
     "output_type": "stream",
     "text": [
      "Train: Loss=0.9753 Batch_id=781 Accuracy=66.92: 100%|█| 782/782 [00:38<00:00, 20\n"
     ]
    },
    {
     "name": "stdout",
     "output_type": "stream",
     "text": [
      "Adjusting learning rate of group 0 to 1.0000e-02.\n",
      "Epoch 12\n"
     ]
    },
    {
     "name": "stderr",
     "output_type": "stream",
     "text": [
      "Train: Loss=0.4082 Batch_id=781 Accuracy=67.96: 100%|█| 782/782 [00:38<00:00, 20\n"
     ]
    },
    {
     "name": "stdout",
     "output_type": "stream",
     "text": [
      "Adjusting learning rate of group 0 to 1.0000e-02.\n",
      "Epoch 13\n"
     ]
    },
    {
     "name": "stderr",
     "output_type": "stream",
     "text": [
      "Train: Loss=1.2965 Batch_id=781 Accuracy=68.98: 100%|█| 782/782 [00:39<00:00, 19\n"
     ]
    },
    {
     "name": "stdout",
     "output_type": "stream",
     "text": [
      "Adjusting learning rate of group 0 to 1.0000e-02.\n",
      "Epoch 14\n"
     ]
    },
    {
     "name": "stderr",
     "output_type": "stream",
     "text": [
      "Train: Loss=0.5904 Batch_id=781 Accuracy=69.85: 100%|█| 782/782 [00:38<00:00, 20\n"
     ]
    },
    {
     "name": "stdout",
     "output_type": "stream",
     "text": [
      "Adjusting learning rate of group 0 to 1.0000e-02.\n",
      "Epoch 15\n"
     ]
    },
    {
     "name": "stderr",
     "output_type": "stream",
     "text": [
      "Train: Loss=1.1059 Batch_id=781 Accuracy=70.84: 100%|█| 782/782 [00:37<00:00, 20\n"
     ]
    },
    {
     "name": "stdout",
     "output_type": "stream",
     "text": [
      "Adjusting learning rate of group 0 to 1.0000e-03.\n",
      "Epoch 16\n"
     ]
    },
    {
     "name": "stderr",
     "output_type": "stream",
     "text": [
      "Train: Loss=0.5468 Batch_id=781 Accuracy=75.70: 100%|█| 782/782 [00:33<00:00, 23\n"
     ]
    },
    {
     "name": "stdout",
     "output_type": "stream",
     "text": [
      "Adjusting learning rate of group 0 to 1.0000e-03.\n",
      "Epoch 17\n"
     ]
    },
    {
     "name": "stderr",
     "output_type": "stream",
     "text": [
      "Train: Loss=0.8078 Batch_id=781 Accuracy=76.35: 100%|█| 782/782 [00:33<00:00, 23\n"
     ]
    },
    {
     "name": "stdout",
     "output_type": "stream",
     "text": [
      "Adjusting learning rate of group 0 to 1.0000e-03.\n",
      "Epoch 18\n"
     ]
    },
    {
     "name": "stderr",
     "output_type": "stream",
     "text": [
      "Train: Loss=0.6468 Batch_id=781 Accuracy=76.36: 100%|█| 782/782 [00:33<00:00, 23\n"
     ]
    },
    {
     "name": "stdout",
     "output_type": "stream",
     "text": [
      "Adjusting learning rate of group 0 to 1.0000e-03.\n",
      "Epoch 19\n"
     ]
    },
    {
     "name": "stderr",
     "output_type": "stream",
     "text": [
      "Train: Loss=1.3772 Batch_id=781 Accuracy=76.81: 100%|█| 782/782 [00:33<00:00, 23\n"
     ]
    },
    {
     "name": "stdout",
     "output_type": "stream",
     "text": [
      "Adjusting learning rate of group 0 to 1.0000e-03.\n",
      "Epoch 20\n"
     ]
    },
    {
     "name": "stderr",
     "output_type": "stream",
     "text": [
      "Train: Loss=0.7906 Batch_id=781 Accuracy=76.90: 100%|█| 782/782 [00:33<00:00, 23\n"
     ]
    },
    {
     "name": "stdout",
     "output_type": "stream",
     "text": [
      "Adjusting learning rate of group 0 to 1.0000e-03.\n"
     ]
    }
   ],
   "source": [
    "# Training and Testing - model 2\n",
    "optimizer = optim.SGD(model2.parameters(), lr=0.01, momentum=0.9)\n",
    "scheduler = optim.lr_scheduler.StepLR(optimizer, step_size=15, gamma=0.1, verbose=True)\n",
    "criterion = F.nll_loss\n",
    "num_epochs = 20\n",
    "\n",
    "train_acc = []\n",
    "train_losses = []\n",
    "test_acc = []\n",
    "test_losses = []\n",
    "\n",
    "for epoch in range(1, num_epochs+1):\n",
    "    print(f'Epoch {epoch}')\n",
    "    train_acc, train_losses = train(model2, device, train_loader, optimizer, criterion, train_acc, train_losses)\n",
    "    test_acc, test_losses = test(model2, device, test_loader, criterion, test_acc, test_losses)\n",
    "    scheduler.step()"
   ]
  },
  {
   "cell_type": "code",
   "execution_count": 8,
   "id": "a88b049f",
   "metadata": {},
   "outputs": [
    {
     "name": "stdout",
     "output_type": "stream",
     "text": [
      "Adjusting learning rate of group 0 to 1.0000e-02.\n",
      "Epoch 1\n"
     ]
    },
    {
     "name": "stderr",
     "output_type": "stream",
     "text": [
      "Train: Loss=1.4280 Batch_id=781 Accuracy=48.75: 100%|█| 782/782 [00:34<00:00, 22\n"
     ]
    },
    {
     "name": "stdout",
     "output_type": "stream",
     "text": [
      "Adjusting learning rate of group 0 to 1.0000e-02.\n",
      "Epoch 2\n"
     ]
    },
    {
     "name": "stderr",
     "output_type": "stream",
     "text": [
      "Train: Loss=1.0026 Batch_id=781 Accuracy=63.31: 100%|█| 782/782 [00:35<00:00, 22\n"
     ]
    },
    {
     "name": "stdout",
     "output_type": "stream",
     "text": [
      "Adjusting learning rate of group 0 to 1.0000e-02.\n",
      "Epoch 3\n"
     ]
    },
    {
     "name": "stderr",
     "output_type": "stream",
     "text": [
      "Train: Loss=0.7261 Batch_id=781 Accuracy=68.61: 100%|█| 782/782 [00:34<00:00, 22\n"
     ]
    },
    {
     "name": "stdout",
     "output_type": "stream",
     "text": [
      "Adjusting learning rate of group 0 to 1.0000e-02.\n",
      "Epoch 4\n"
     ]
    },
    {
     "name": "stderr",
     "output_type": "stream",
     "text": [
      "Train: Loss=1.6010 Batch_id=781 Accuracy=71.75: 100%|█| 782/782 [00:34<00:00, 22\n"
     ]
    },
    {
     "name": "stdout",
     "output_type": "stream",
     "text": [
      "Adjusting learning rate of group 0 to 1.0000e-02.\n",
      "Epoch 5\n"
     ]
    },
    {
     "name": "stderr",
     "output_type": "stream",
     "text": [
      "Train: Loss=1.2513 Batch_id=781 Accuracy=74.50: 100%|█| 782/782 [00:35<00:00, 22\n"
     ]
    },
    {
     "name": "stdout",
     "output_type": "stream",
     "text": [
      "Adjusting learning rate of group 0 to 1.0000e-02.\n",
      "Epoch 6\n"
     ]
    },
    {
     "name": "stderr",
     "output_type": "stream",
     "text": [
      "Train: Loss=1.1394 Batch_id=781 Accuracy=76.53: 100%|█| 782/782 [00:34<00:00, 22\n"
     ]
    },
    {
     "name": "stdout",
     "output_type": "stream",
     "text": [
      "Adjusting learning rate of group 0 to 1.0000e-02.\n",
      "Epoch 7\n"
     ]
    },
    {
     "name": "stderr",
     "output_type": "stream",
     "text": [
      "Train: Loss=0.4642 Batch_id=781 Accuracy=77.70: 100%|█| 782/782 [00:34<00:00, 22\n"
     ]
    },
    {
     "name": "stdout",
     "output_type": "stream",
     "text": [
      "Adjusting learning rate of group 0 to 1.0000e-02.\n",
      "Epoch 8\n"
     ]
    },
    {
     "name": "stderr",
     "output_type": "stream",
     "text": [
      "Train: Loss=0.3190 Batch_id=781 Accuracy=79.19: 100%|█| 782/782 [00:34<00:00, 22\n"
     ]
    },
    {
     "name": "stdout",
     "output_type": "stream",
     "text": [
      "Adjusting learning rate of group 0 to 1.0000e-02.\n",
      "Epoch 9\n"
     ]
    },
    {
     "name": "stderr",
     "output_type": "stream",
     "text": [
      "Train: Loss=0.6201 Batch_id=781 Accuracy=80.28: 100%|█| 782/782 [00:34<00:00, 22\n"
     ]
    },
    {
     "name": "stdout",
     "output_type": "stream",
     "text": [
      "Adjusting learning rate of group 0 to 1.0000e-02.\n",
      "Epoch 10\n"
     ]
    },
    {
     "name": "stderr",
     "output_type": "stream",
     "text": [
      "Train: Loss=0.6645 Batch_id=781 Accuracy=80.92: 100%|█| 782/782 [00:35<00:00, 22\n"
     ]
    },
    {
     "name": "stdout",
     "output_type": "stream",
     "text": [
      "Adjusting learning rate of group 0 to 1.0000e-02.\n",
      "Epoch 11\n"
     ]
    },
    {
     "name": "stderr",
     "output_type": "stream",
     "text": [
      "Train: Loss=1.0919 Batch_id=781 Accuracy=81.98: 100%|█| 782/782 [00:34<00:00, 22\n"
     ]
    },
    {
     "name": "stdout",
     "output_type": "stream",
     "text": [
      "Adjusting learning rate of group 0 to 1.0000e-02.\n",
      "Epoch 12\n"
     ]
    },
    {
     "name": "stderr",
     "output_type": "stream",
     "text": [
      "Train: Loss=0.6656 Batch_id=781 Accuracy=82.50: 100%|█| 782/782 [00:34<00:00, 22\n"
     ]
    },
    {
     "name": "stdout",
     "output_type": "stream",
     "text": [
      "Adjusting learning rate of group 0 to 1.0000e-02.\n",
      "Epoch 13\n"
     ]
    },
    {
     "name": "stderr",
     "output_type": "stream",
     "text": [
      "Train: Loss=0.7037 Batch_id=781 Accuracy=83.27: 100%|█| 782/782 [00:34<00:00, 22\n"
     ]
    },
    {
     "name": "stdout",
     "output_type": "stream",
     "text": [
      "Adjusting learning rate of group 0 to 1.0000e-02.\n",
      "Epoch 14\n"
     ]
    },
    {
     "name": "stderr",
     "output_type": "stream",
     "text": [
      "Train: Loss=0.8799 Batch_id=781 Accuracy=83.80: 100%|█| 782/782 [00:35<00:00, 22\n"
     ]
    },
    {
     "name": "stdout",
     "output_type": "stream",
     "text": [
      "Adjusting learning rate of group 0 to 1.0000e-02.\n",
      "Epoch 15\n"
     ]
    },
    {
     "name": "stderr",
     "output_type": "stream",
     "text": [
      "Train: Loss=0.7104 Batch_id=781 Accuracy=84.57: 100%|█| 782/782 [00:34<00:00, 22\n"
     ]
    },
    {
     "name": "stdout",
     "output_type": "stream",
     "text": [
      "Adjusting learning rate of group 0 to 1.0000e-03.\n",
      "Epoch 16\n"
     ]
    },
    {
     "name": "stderr",
     "output_type": "stream",
     "text": [
      "Train: Loss=0.2444 Batch_id=781 Accuracy=88.29: 100%|█| 782/782 [00:34<00:00, 22\n"
     ]
    },
    {
     "name": "stdout",
     "output_type": "stream",
     "text": [
      "Adjusting learning rate of group 0 to 1.0000e-03.\n",
      "Epoch 17\n"
     ]
    },
    {
     "name": "stderr",
     "output_type": "stream",
     "text": [
      "Train: Loss=0.3816 Batch_id=781 Accuracy=89.50: 100%|█| 782/782 [00:34<00:00, 22\n"
     ]
    },
    {
     "name": "stdout",
     "output_type": "stream",
     "text": [
      "Adjusting learning rate of group 0 to 1.0000e-03.\n",
      "Epoch 18\n"
     ]
    },
    {
     "name": "stderr",
     "output_type": "stream",
     "text": [
      "Train: Loss=0.6892 Batch_id=781 Accuracy=89.88: 100%|█| 782/782 [00:35<00:00, 21\n"
     ]
    },
    {
     "name": "stdout",
     "output_type": "stream",
     "text": [
      "Adjusting learning rate of group 0 to 1.0000e-03.\n",
      "Epoch 19\n"
     ]
    },
    {
     "name": "stderr",
     "output_type": "stream",
     "text": [
      "Train: Loss=0.1856 Batch_id=781 Accuracy=90.02: 100%|█| 782/782 [00:34<00:00, 22\n"
     ]
    },
    {
     "name": "stdout",
     "output_type": "stream",
     "text": [
      "Adjusting learning rate of group 0 to 1.0000e-03.\n",
      "Epoch 20\n"
     ]
    },
    {
     "name": "stderr",
     "output_type": "stream",
     "text": [
      "Train: Loss=0.2180 Batch_id=781 Accuracy=90.30: 100%|█| 782/782 [00:34<00:00, 22\n"
     ]
    },
    {
     "name": "stdout",
     "output_type": "stream",
     "text": [
      "Adjusting learning rate of group 0 to 1.0000e-03.\n"
     ]
    }
   ],
   "source": [
    "# Training and Testing - model 3\n",
    "optimizer = optim.SGD(model3.parameters(), lr=0.01, momentum=0.9)\n",
    "scheduler = optim.lr_scheduler.StepLR(optimizer, step_size=15, gamma=0.1, verbose=True)\n",
    "criterion = F.nll_loss\n",
    "num_epochs = 20\n",
    "\n",
    "train_acc = []\n",
    "train_losses = []\n",
    "test_acc = []\n",
    "test_losses = []\n",
    "\n",
    "for epoch in range(1, num_epochs+1):\n",
    "    print(f'Epoch {epoch}')\n",
    "    train_acc, train_losses = train(model3, device, train_loader, optimizer, criterion, train_acc, train_losses)\n",
    "    test_acc, test_losses = test(model3, device, test_loader, criterion, test_acc, test_losses)\n",
    "    scheduler.step()"
   ]
  },
  {
   "cell_type": "code",
   "execution_count": null,
   "id": "48377896",
   "metadata": {},
   "outputs": [],
   "source": [
    "# # Plotting accuracy and loss\n",
    "# fig, axs = plt.subplots(2,2,figsize=(15,10))\n",
    "# axs[0, 0].plot(train_losses)\n",
    "# axs[0, 0].set_title(\"Training Loss\")\n",
    "# axs[1, 0].plot(train_acc)\n",
    "# axs[1, 0].set_title(\"Training Accuracy\")\n",
    "# axs[0, 1].plot(test_losses)\n",
    "# axs[0, 1].set_title(\"Test Loss\")\n",
    "# axs[1, 1].plot(test_acc)\n",
    "# axs[1, 1].set_title(\"Test Accuracy\")"
   ]
  },
  {
   "cell_type": "code",
   "execution_count": null,
   "id": "c9a423d9",
   "metadata": {},
   "outputs": [],
   "source": []
  }
 ],
 "metadata": {
  "kernelspec": {
   "display_name": "Python 3 (ipykernel)",
   "language": "python",
   "name": "python3"
  },
  "language_info": {
   "codemirror_mode": {
    "name": "ipython",
    "version": 3
   },
   "file_extension": ".py",
   "mimetype": "text/x-python",
   "name": "python",
   "nbconvert_exporter": "python",
   "pygments_lexer": "ipython3",
   "version": "3.8.8"
  }
 },
 "nbformat": 4,
 "nbformat_minor": 5
}
